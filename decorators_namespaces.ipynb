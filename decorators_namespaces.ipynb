{
  "nbformat": 4,
  "nbformat_minor": 0,
  "metadata": {
    "colab": {
      "provenance": [],
      "authorship_tag": "ABX9TyP7lsLLcSDGxGEy8jR7uAku",
      "include_colab_link": true
    },
    "kernelspec": {
      "name": "python3",
      "display_name": "Python 3"
    },
    "language_info": {
      "name": "python"
    }
  },
  "cells": [
    {
      "cell_type": "markdown",
      "metadata": {
        "id": "view-in-github",
        "colab_type": "text"
      },
      "source": [
        "<a href=\"https://colab.research.google.com/github/prachi137/python/blob/pyhon/decorators_namespaces.ipynb\" target=\"_parent\"><img src=\"https://colab.research.google.com/assets/colab-badge.svg\" alt=\"Open In Colab\"/></a>"
      ]
    },
    {
      "cell_type": "markdown",
      "source": [
        "Namespaces\n",
        "\n",
        "a namespace is a space that holds names(identifiers).Programatically speaking,namespaces are dictionary of identifiers(keys) and their objects(value)\n",
        "\n",
        "ther are 4 types of namespaces:\n",
        "\n",
        "-builtin namespaces\n",
        "\n",
        "-global namespaces\n",
        "\n",
        "-enclosing namespaces\n",
        "\n",
        "-local namespaces\n",
        "\n",
        "scope and LEGB Rule\n",
        "\n",
        "A scope is a textual region of a python program wherea a namespace is directly accesible the interpreter searches for a name from the inside out,looking in the local,enclosing,global, and finally yhe built-in scope if the interpreter doesn't find the the name in any of those locations,then Python raise a NameError exception.\n",
        "\n"
      ],
      "metadata": {
        "id": "4GGenkZw2OdE"
      }
    },
    {
      "cell_type": "code",
      "source": [
        "#local and global\n",
        "a = 2\n",
        "def temp():\n",
        "  b = 3\n",
        "  print(b)\n",
        "\n",
        "temp()\n",
        "print(a)"
      ],
      "metadata": {
        "colab": {
          "base_uri": "https://localhost:8080/"
        },
        "id": "s_6GfNBx5h9Z",
        "outputId": "e29b509b-d64c-4f36-e359-5d1e43c5f4b5"
      },
      "execution_count": null,
      "outputs": [
        {
          "output_type": "stream",
          "name": "stdout",
          "text": [
            "3\n",
            "2\n"
          ]
        }
      ]
    },
    {
      "cell_type": "code",
      "source": [
        "# local and global->same name\n",
        "a = 2\n",
        "def temp():\n",
        "  a = 3\n",
        "  print(a)\n",
        "\n",
        "temp()\n",
        "print(a)"
      ],
      "metadata": {
        "colab": {
          "base_uri": "https://localhost:8080/"
        },
        "id": "08aZIgzm64N1",
        "outputId": "ec7077ff-7368-402e-82f6-7f60b2e2bcae"
      },
      "execution_count": null,
      "outputs": [
        {
          "output_type": "stream",
          "name": "stdout",
          "text": [
            "3\n",
            "2\n"
          ]
        }
      ]
    },
    {
      "cell_type": "code",
      "source": [
        "# local and global ->local does not have but global has\n",
        "a = 2\n",
        "def temp():\n",
        "\n",
        "  print(a)\n",
        "\n",
        "temp()\n",
        "print(a)"
      ],
      "metadata": {
        "colab": {
          "base_uri": "https://localhost:8080/"
        },
        "id": "0x66EAJI7v6t",
        "outputId": "da1815cf-c817-4500-b493-3a571363ca22"
      },
      "execution_count": null,
      "outputs": [
        {
          "output_type": "stream",
          "name": "stdout",
          "text": [
            "2\n",
            "2\n"
          ]
        }
      ]
    },
    {
      "cell_type": "code",
      "source": [
        "# local and global -> editing global\n",
        "a = 2\n",
        "def temp():\n",
        "  global a\n",
        "  a += 1\n",
        "  print(a)\n",
        "\n",
        "temp()\n",
        "print(a)"
      ],
      "metadata": {
        "colab": {
          "base_uri": "https://localhost:8080/"
        },
        "id": "8_7hZIR38t2W",
        "outputId": "18090136-dfdb-4c6b-9611-90d82506e627"
      },
      "execution_count": null,
      "outputs": [
        {
          "output_type": "stream",
          "name": "stdout",
          "text": [
            "3\n",
            "3\n"
          ]
        }
      ]
    },
    {
      "cell_type": "code",
      "source": [
        "# local and global -> global is created inside local\n",
        "a = 2\n",
        "def temp():\n",
        "  a = 1\n",
        "  print(a)\n",
        "\n",
        "temp()\n",
        "print(a)"
      ],
      "metadata": {
        "colab": {
          "base_uri": "https://localhost:8080/"
        },
        "id": "D8Bb5WJO9zeA",
        "outputId": "cabb188c-7c5f-47e6-9a8c-47a9c3fefa3e"
      },
      "execution_count": null,
      "outputs": [
        {
          "output_type": "stream",
          "name": "stdout",
          "text": [
            "1\n",
            "2\n"
          ]
        }
      ]
    },
    {
      "cell_type": "code",
      "source": [],
      "metadata": {
        "id": "nfoyzV6S_Xi8"
      },
      "execution_count": null,
      "outputs": []
    },
    {
      "cell_type": "code",
      "source": [
        "# local and global -> function parameter is local\n",
        "def temp(z):\n",
        "  print(z)\n",
        "\n",
        "a = 5\n",
        "temp(5)\n",
        "print(a)"
      ],
      "metadata": {
        "colab": {
          "base_uri": "https://localhost:8080/"
        },
        "id": "xLzsAo2u-Y7P",
        "outputId": "6ce81850-a827-4113-889b-3b52951fcdf5"
      },
      "execution_count": null,
      "outputs": [
        {
          "output_type": "stream",
          "name": "stdout",
          "text": [
            "5\n",
            "5\n"
          ]
        }
      ]
    },
    {
      "cell_type": "code",
      "source": [
        "# built-in scope\n",
        "import builtins\n",
        "print(dir(builtins))"
      ],
      "metadata": {
        "id": "EqVOkhzH_ZLt",
        "colab": {
          "base_uri": "https://localhost:8080/"
        },
        "outputId": "275c1026-dc5c-4cf1-c113-4370ca3dda29"
      },
      "execution_count": null,
      "outputs": [
        {
          "output_type": "stream",
          "name": "stdout",
          "text": [
            "['ArithmeticError', 'AssertionError', 'AttributeError', 'BaseException', 'BlockingIOError', 'BrokenPipeError', 'BufferError', 'BytesWarning', 'ChildProcessError', 'ConnectionAbortedError', 'ConnectionError', 'ConnectionRefusedError', 'ConnectionResetError', 'DeprecationWarning', 'EOFError', 'Ellipsis', 'EncodingWarning', 'EnvironmentError', 'Exception', 'False', 'FileExistsError', 'FileNotFoundError', 'FloatingPointError', 'FutureWarning', 'GeneratorExit', 'IOError', 'ImportError', 'ImportWarning', 'IndentationError', 'IndexError', 'InterruptedError', 'IsADirectoryError', 'KeyError', 'KeyboardInterrupt', 'LookupError', 'MemoryError', 'ModuleNotFoundError', 'NameError', 'None', 'NotADirectoryError', 'NotImplemented', 'NotImplementedError', 'OSError', 'OverflowError', 'PendingDeprecationWarning', 'PermissionError', 'ProcessLookupError', 'RecursionError', 'ReferenceError', 'ResourceWarning', 'RuntimeError', 'RuntimeWarning', 'StopAsyncIteration', 'StopIteration', 'SyntaxError', 'SyntaxWarning', 'SystemError', 'SystemExit', 'TabError', 'TimeoutError', 'True', 'TypeError', 'UnboundLocalError', 'UnicodeDecodeError', 'UnicodeEncodeError', 'UnicodeError', 'UnicodeTranslateError', 'UnicodeWarning', 'UserWarning', 'ValueError', 'Warning', 'ZeroDivisionError', '__IPYTHON__', '__build_class__', '__debug__', '__doc__', '__import__', '__loader__', '__name__', '__package__', '__spec__', 'abs', 'aiter', 'all', 'anext', 'any', 'ascii', 'bin', 'bool', 'breakpoint', 'bytearray', 'bytes', 'callable', 'chr', 'classmethod', 'compile', 'complex', 'copyright', 'credits', 'delattr', 'dict', 'dir', 'display', 'divmod', 'enumerate', 'eval', 'exec', 'execfile', 'filter', 'float', 'format', 'frozenset', 'get_ipython', 'getattr', 'globals', 'hasattr', 'hash', 'help', 'hex', 'id', 'input', 'int', 'isinstance', 'issubclass', 'iter', 'len', 'license', 'list', 'locals', 'map', 'max', 'memoryview', 'min', 'next', 'object', 'oct', 'open', 'ord', 'pow', 'print', 'property', 'range', 'repr', 'reversed', 'round', 'runfile', 'set', 'setattr', 'slice', 'sorted', 'staticmethod', 'str', 'sum', 'super', 'tuple', 'type', 'vars', 'zip']\n"
          ]
        }
      ]
    },
    {
      "cell_type": "code",
      "source": [
        "# renaming builtins\n",
        "L = [1,2,3]\n",
        "max(L)\n"
      ],
      "metadata": {
        "colab": {
          "base_uri": "https://localhost:8080/"
        },
        "id": "p9qUQ6iKIvJI",
        "outputId": "8f6c82b3-61f8-4d9b-a6ec-ed7abd7d764d"
      },
      "execution_count": null,
      "outputs": [
        {
          "output_type": "execute_result",
          "data": {
            "text/plain": [
              "3"
            ]
          },
          "metadata": {},
          "execution_count": 3
        }
      ]
    },
    {
      "cell_type": "code",
      "source": [
        "# enclosing scope\n",
        "def outer():\n",
        "  def inner():\n",
        "    print(\"inner\")\n",
        "  inner()\n",
        "  print(\"outer\")\n",
        "\n",
        "outer()\n",
        "print('main program')\n"
      ],
      "metadata": {
        "colab": {
          "base_uri": "https://localhost:8080/"
        },
        "id": "3mZ0U99SJGZp",
        "outputId": "d6d896f0-14f7-4b09-8529-beccb614201e"
      },
      "execution_count": null,
      "outputs": [
        {
          "output_type": "stream",
          "name": "stdout",
          "text": [
            "inner\n",
            "outer\n",
            "main program\n"
          ]
        }
      ]
    },
    {
      "cell_type": "code",
      "source": [
        "# nonlocal keyword\n",
        "def outer():\n",
        "  a = 1\n",
        "  def inner():\n",
        "    nonlocal a\n",
        "    a += 1\n",
        "    print('inner',a)\n",
        "  inner()\n",
        "  print('outer',a)\n",
        "\n",
        "outer()\n",
        "print('main program')"
      ],
      "metadata": {
        "colab": {
          "base_uri": "https://localhost:8080/"
        },
        "id": "bnb1sqJIK1KM",
        "outputId": "c9ffae43-9e40-4ab8-a03c-b03851ff5ce5"
      },
      "execution_count": null,
      "outputs": [
        {
          "output_type": "stream",
          "name": "stdout",
          "text": [
            "inner 2\n",
            "outer 2\n",
            "main program\n"
          ]
        }
      ]
    },
    {
      "cell_type": "markdown",
      "source": [
        "Decorators\n",
        "Adecorators in python is a function that receives another function as input and adds some functionality(decoration) to and it returns it\n",
        "\n",
        "this can happen only because python function are 1st class citizens.\n",
        "\n",
        "there are two types of decorators available in pyyhon\n",
        "\n",
        "- built in decorators like @saticmethod,@classmethod,@abstractmethod and @property etc\n",
        "\n",
        "- user defined decorators that we programmers can create according to our neends"
      ],
      "metadata": {
        "id": "XeAf-fVyMlwb"
      }
    },
    {
      "cell_type": "code",
      "source": [
        "# python are 1st class function\n",
        "def modify(func,num):\n",
        "  return func(num)\n",
        "\n",
        "def square(x):\n",
        " return x**2\n",
        "\n",
        "modify(square,2)\n"
      ],
      "metadata": {
        "colab": {
          "base_uri": "https://localhost:8080/"
        },
        "id": "BBwfK_JBOWSS",
        "outputId": "ec4aadbd-02e0-4f42-9d2e-b80e1f6a0fe3"
      },
      "execution_count": null,
      "outputs": [
        {
          "output_type": "execute_result",
          "data": {
            "text/plain": [
              "4"
            ]
          },
          "metadata": {},
          "execution_count": 8
        }
      ]
    },
    {
      "cell_type": "code",
      "source": [
        "# simple example\n",
        "def my_decorator(func):\n",
        "  def wrapper():\n",
        "    print('******************')\n",
        "    func()\n",
        "    print('********************')\n",
        "  # Return the wrapper function\n",
        "  return wrapper  # This line was missing, causing the error\n",
        "\n",
        "def hello():\n",
        "  print('hello')\n",
        "a = my_decorator(hello)\n",
        "a()"
      ],
      "metadata": {
        "colab": {
          "base_uri": "https://localhost:8080/"
        },
        "id": "w9GnlGL2PcjP",
        "outputId": "d023c182-74c5-4d85-e619-394cf6aeaf9e"
      },
      "execution_count": null,
      "outputs": [
        {
          "output_type": "stream",
          "name": "stdout",
          "text": [
            "******************\n",
            "hello\n",
            "********************\n"
          ]
        }
      ]
    },
    {
      "cell_type": "code",
      "source": [
        "# simple example\n",
        "def my_decorator(func):\n",
        "  def wrapper():\n",
        "    print('******************')\n",
        "    func()\n",
        "    print('********************')\n",
        "\n",
        "  return wrapper\n",
        "@my_decorator\n",
        "def hello():\n",
        "  print('hello')\n",
        "hello()\n"
      ],
      "metadata": {
        "colab": {
          "base_uri": "https://localhost:8080/"
        },
        "id": "OBz1oMnKVnpj",
        "outputId": "518aaeb7-fca9-4857-d82e-b0493b9be448"
      },
      "execution_count": null,
      "outputs": [
        {
          "output_type": "stream",
          "name": "stdout",
          "text": [
            "******************\n",
            "hello\n",
            "********************\n"
          ]
        }
      ]
    },
    {
      "cell_type": "code",
      "source": [
        "import time\n",
        "\n",
        "def timer(func):\n",
        "    def wrapper():\n",
        "        start = time.time()\n",
        "        func()\n",
        "        print('time taken by', func.__name__, time.time() - start, 'secs')  # Fixed: Calling time.time() instead of subtracting from it\n",
        "    return wrapper  # Fixed: Returning the wrapper function\n",
        "\n",
        "@timer\n",
        "def hello():\n",
        "    print('hello world')\n",
        "    time.sleep(2)\n",
        "\n",
        "@timer\n",
        "def display():\n",
        "  print('display something')\n",
        "  time.sleep(4)\n",
        "\n",
        "hello()\n",
        "display()\n"
      ],
      "metadata": {
        "colab": {
          "base_uri": "https://localhost:8080/"
        },
        "id": "Y-rZqWWZTyCO",
        "outputId": "31d2a047-6b07-4e2e-fd25-d96baf024c43"
      },
      "execution_count": null,
      "outputs": [
        {
          "output_type": "stream",
          "name": "stdout",
          "text": [
            "hello world\n",
            "time taken by hello 2.0034067630767822 secs\n",
            "display something\n",
            "time taken by display 4.004167795181274 secs\n"
          ]
        }
      ]
    }
  ]
}